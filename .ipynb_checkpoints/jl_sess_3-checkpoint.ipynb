{
 "cells": [
  {
   "cell_type": "code",
   "execution_count": 1,
   "id": "98f84250",
   "metadata": {},
   "outputs": [
    {
     "data": {
      "text/plain": [
       "\"Suminder\""
      ]
     },
     "execution_count": 1,
     "metadata": {},
     "output_type": "execute_result"
    }
   ],
   "source": [
    "s = \"Suminder\""
   ]
  },
  {
   "cell_type": "code",
   "execution_count": 4,
   "id": "42b6209a",
   "metadata": {},
   "outputs": [
    {
     "data": {
      "text/plain": [
       "'r': ASCII/Unicode U+0072 (category Ll: Letter, lowercase)"
      ]
     },
     "execution_count": 4,
     "metadata": {},
     "output_type": "execute_result"
    }
   ],
   "source": [
    "s[end]"
   ]
  },
  {
   "cell_type": "code",
   "execution_count": 5,
   "id": "500ac507",
   "metadata": {},
   "outputs": [
    {
     "data": {
      "text/plain": [
       "'S': ASCII/Unicode U+0053 (category Lu: Letter, uppercase)"
      ]
     },
     "execution_count": 5,
     "metadata": {},
     "output_type": "execute_result"
    }
   ],
   "source": [
    "s[begin]"
   ]
  },
  {
   "cell_type": "code",
   "execution_count": 13,
   "id": "d47405ef",
   "metadata": {},
   "outputs": [
    {
     "data": {
      "text/plain": [
       "\"Suminder\""
      ]
     },
     "execution_count": 13,
     "metadata": {},
     "output_type": "execute_result"
    }
   ],
   "source": [
    "s[begin:end]"
   ]
  },
  {
   "cell_type": "code",
   "execution_count": 7,
   "id": "d27c5d9e",
   "metadata": {},
   "outputs": [
    {
     "data": {
      "text/plain": [
       "'m': ASCII/Unicode U+006D (category Ll: Letter, lowercase)"
      ]
     },
     "execution_count": 7,
     "metadata": {},
     "output_type": "execute_result"
    }
   ],
   "source": [
    "s[:3]"
   ]
  },
  {
   "cell_type": "code",
   "execution_count": 11,
   "id": "1c0855c6",
   "metadata": {},
   "outputs": [
    {
     "data": {
      "text/plain": [
       "\"Sumin\""
      ]
     },
     "execution_count": 11,
     "metadata": {},
     "output_type": "execute_result"
    }
   ],
   "source": [
    "s[begin:5]"
   ]
  },
  {
   "cell_type": "code",
   "execution_count": 14,
   "id": "6d2cea86",
   "metadata": {},
   "outputs": [
    {
     "data": {
      "text/plain": [
       "\"Sumi\""
      ]
     },
     "execution_count": 14,
     "metadata": {},
     "output_type": "execute_result"
    }
   ],
   "source": [
    "s[1:4]"
   ]
  },
  {
   "cell_type": "code",
   "execution_count": 17,
   "id": "ae97c97f",
   "metadata": {},
   "outputs": [
    {
     "data": {
      "text/plain": [
       "\"Sumin\""
      ]
     },
     "execution_count": 17,
     "metadata": {},
     "output_type": "execute_result"
    }
   ],
   "source": [
    "SubString(s, 1, 5)"
   ]
  },
  {
   "cell_type": "code",
   "execution_count": 18,
   "id": "e44d6a99",
   "metadata": {},
   "outputs": [
    {
     "data": {
      "text/plain": [
       "\"Suminder Singh\""
      ]
     },
     "execution_count": 18,
     "metadata": {},
     "output_type": "execute_result"
    }
   ],
   "source": [
    "string(s, \" Singh\")"
   ]
  },
  {
   "cell_type": "code",
   "execution_count": 19,
   "id": "746d25a0",
   "metadata": {},
   "outputs": [
    {
     "data": {
      "text/plain": [
       "5"
      ]
     },
     "execution_count": 19,
     "metadata": {},
     "output_type": "execute_result"
    }
   ],
   "source": [
    "x = 2\n",
    "y = 5"
   ]
  },
  {
   "cell_type": "code",
   "execution_count": 20,
   "id": "986b52b2",
   "metadata": {},
   "outputs": [
    {
     "data": {
      "text/plain": [
       "\"2 + 5 = 7\""
      ]
     },
     "execution_count": 20,
     "metadata": {},
     "output_type": "execute_result"
    }
   ],
   "source": [
    "\"$x + $y = $(x+y)\""
   ]
  },
  {
   "cell_type": "code",
   "execution_count": 21,
   "id": "78d72d20",
   "metadata": {},
   "outputs": [
    {
     "data": {
      "text/plain": [
       "true"
      ]
     },
     "execution_count": 21,
     "metadata": {},
     "output_type": "execute_result"
    }
   ],
   "source": [
    "occursin(\"sumi\", \"suminder\")"
   ]
  },
  {
   "cell_type": "code",
   "execution_count": 26,
   "id": "9f6c5d75",
   "metadata": {},
   "outputs": [
    {
     "name": "stdout",
     "output_type": "stream",
     "text": [
      "y\n"
     ]
    }
   ],
   "source": [
    "x = 7\n",
    "y = 10\n",
    "z = 15\n",
    "\n",
    "if (x > 6) && (x >=10)\n",
    "    println(\"x\")\n",
    "elseif (y > x)\n",
    "    println(\"y\")\n",
    "else (z > x)\n",
    "    println(\"w\")\n",
    "end"
   ]
  },
  {
   "cell_type": "code",
   "execution_count": null,
   "id": "1f342834",
   "metadata": {},
   "outputs": [],
   "source": []
  }
 ],
 "metadata": {
  "kernelspec": {
   "display_name": "Julia 1.8.3",
   "language": "julia",
   "name": "julia-1.8"
  },
  "language_info": {
   "file_extension": ".jl",
   "mimetype": "application/julia",
   "name": "julia",
   "version": "1.8.3"
  }
 },
 "nbformat": 4,
 "nbformat_minor": 5
}
