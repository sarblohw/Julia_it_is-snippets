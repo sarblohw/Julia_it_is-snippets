{
 "cells": [
  {
   "cell_type": "code",
   "execution_count": 4,
   "id": "11d0e048",
   "metadata": {},
   "outputs": [
    {
     "data": {
      "text/plain": [
       "changeNum (generic function with 1 method)"
      ]
     },
     "execution_count": 4,
     "metadata": {},
     "output_type": "execute_result"
    }
   ],
   "source": [
    "function changeNum()\n",
    "    x::UInt8 = 10\n",
    "    println(x)\n",
    "end"
   ]
  },
  {
   "cell_type": "code",
   "execution_count": 5,
   "id": "0d4d032f",
   "metadata": {},
   "outputs": [
    {
     "name": "stdout",
     "output_type": "stream",
     "text": [
      "10\n"
     ]
    }
   ],
   "source": [
    "changeNum()"
   ]
  },
  {
   "cell_type": "code",
   "execution_count": 13,
   "id": "83d5415d",
   "metadata": {},
   "outputs": [
    {
     "data": {
      "text/plain": [
       "\"Suminder Singh\""
      ]
     },
     "execution_count": 13,
     "metadata": {},
     "output_type": "execute_result"
    }
   ],
   "source": [
    "c = \"Suminder Singh\""
   ]
  },
  {
   "cell_type": "code",
   "execution_count": 18,
   "id": "6ee1f948",
   "metadata": {},
   "outputs": [
    {
     "data": {
      "text/plain": [
       "String"
      ]
     },
     "execution_count": 18,
     "metadata": {},
     "output_type": "execute_result"
    }
   ],
   "source": [
    "typeof(c)"
   ]
  },
  {
   "cell_type": "code",
   "execution_count": 19,
   "id": "4c7c7cfb",
   "metadata": {},
   "outputs": [
    {
     "data": {
      "text/plain": [
       "\"Suminder\""
      ]
     },
     "execution_count": 19,
     "metadata": {},
     "output_type": "execute_result"
    }
   ],
   "source": [
    "name::String = \"Suminder\""
   ]
  },
  {
   "cell_type": "code",
   "execution_count": 21,
   "id": "773d774c",
   "metadata": {},
   "outputs": [
    {
     "data": {
      "text/plain": [
       "String"
      ]
     },
     "execution_count": 21,
     "metadata": {},
     "output_type": "execute_result"
    }
   ],
   "source": [
    "typeof(name)"
   ]
  },
  {
   "cell_type": "code",
   "execution_count": 22,
   "id": "2b6887bb",
   "metadata": {},
   "outputs": [
    {
     "data": {
      "text/plain": [
       "'x': ASCII/Unicode U+0078 (category Ll: Letter, lowercase)"
      ]
     },
     "execution_count": 22,
     "metadata": {},
     "output_type": "execute_result"
    }
   ],
   "source": [
    "n::Char = 'x'"
   ]
  },
  {
   "cell_type": "code",
   "execution_count": 23,
   "id": "4f0a3564",
   "metadata": {},
   "outputs": [
    {
     "data": {
      "text/plain": [
       "'x': ASCII/Unicode U+0078 (category Ll: Letter, lowercase)"
      ]
     },
     "execution_count": 23,
     "metadata": {},
     "output_type": "execute_result"
    }
   ],
   "source": [
    "n"
   ]
  },
  {
   "cell_type": "code",
   "execution_count": 24,
   "id": "f21fc74c",
   "metadata": {},
   "outputs": [
    {
     "data": {
      "text/plain": [
       "Char"
      ]
     },
     "execution_count": 24,
     "metadata": {},
     "output_type": "execute_result"
    }
   ],
   "source": [
    "typeof(n)"
   ]
  },
  {
   "cell_type": "code",
   "execution_count": 30,
   "id": "d7116497",
   "metadata": {},
   "outputs": [
    {
     "data": {
      "text/plain": [
       "1.0"
      ]
     },
     "execution_count": 30,
     "metadata": {},
     "output_type": "execute_result"
    }
   ],
   "source": [
    "parse(Float64, \"1\")"
   ]
  },
  {
   "cell_type": "code",
   "execution_count": 31,
   "id": "8ed671f4",
   "metadata": {},
   "outputs": [
    {
     "data": {
      "text/plain": [
       "0"
      ]
     },
     "execution_count": 31,
     "metadata": {},
     "output_type": "execute_result"
    }
   ],
   "source": [
    "parse(Int8, \"0\")"
   ]
  },
  {
   "cell_type": "code",
   "execution_count": 32,
   "id": "49417176",
   "metadata": {},
   "outputs": [
    {
     "data": {
      "text/plain": [
       "3"
      ]
     },
     "execution_count": 32,
     "metadata": {},
     "output_type": "execute_result"
    }
   ],
   "source": [
    "x = 3.142\n",
    "Int8(trunc(x))"
   ]
  },
  {
   "cell_type": "code",
   "execution_count": 37,
   "id": "693c9695",
   "metadata": {},
   "outputs": [
    {
     "data": {
      "text/plain": [
       "\"Suminder Singh\""
      ]
     },
     "execution_count": 37,
     "metadata": {},
     "output_type": "execute_result"
    }
   ],
   "source": [
    "name::String = \"Suminder Singh\""
   ]
  },
  {
   "cell_type": "code",
   "execution_count": 38,
   "id": "0d26b196",
   "metadata": {},
   "outputs": [
    {
     "data": {
      "text/plain": [
       "\"Suminder Singh\""
      ]
     },
     "execution_count": 38,
     "metadata": {},
     "output_type": "execute_result"
    }
   ],
   "source": [
    "name"
   ]
  },
  {
   "cell_type": "code",
   "execution_count": 43,
   "id": "4200c5b4",
   "metadata": {},
   "outputs": [
    {
     "data": {
      "text/plain": [
       "String"
      ]
     },
     "execution_count": 43,
     "metadata": {},
     "output_type": "execute_result"
    }
   ],
   "source": [
    "typeof(name)"
   ]
  },
  {
   "cell_type": "code",
   "execution_count": 45,
   "id": "39dfa860",
   "metadata": {},
   "outputs": [
    {
     "data": {
      "text/plain": [
       "\"ran_text\""
      ]
     },
     "execution_count": 45,
     "metadata": {},
     "output_type": "execute_result"
    }
   ],
   "source": [
    "sammy = \"ran_text\""
   ]
  },
  {
   "cell_type": "code",
   "execution_count": 49,
   "id": "cdbe6ca4",
   "metadata": {},
   "outputs": [
    {
     "data": {
      "text/plain": [
       "\"text\""
      ]
     },
     "execution_count": 49,
     "metadata": {},
     "output_type": "execute_result"
    }
   ],
   "source": [
    "s1 = \"text\""
   ]
  },
  {
   "cell_type": "code",
   "execution_count": 52,
   "id": "4564b347",
   "metadata": {},
   "outputs": [
    {
     "data": {
      "text/plain": [
       "String"
      ]
     },
     "execution_count": 52,
     "metadata": {},
     "output_type": "execute_result"
    }
   ],
   "source": [
    "typeof(s1)"
   ]
  }
 ],
 "metadata": {
  "kernelspec": {
   "display_name": "Julia 1.8.3",
   "language": "julia",
   "name": "julia-1.8"
  },
  "language_info": {
   "file_extension": ".jl",
   "mimetype": "application/julia",
   "name": "julia",
   "version": "1.8.3"
  }
 },
 "nbformat": 4,
 "nbformat_minor": 5
}
